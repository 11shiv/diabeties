{
 "cells": [
  {
   "cell_type": "markdown",
   "metadata": {},
   "source": [
    "#### IMORTING LIBRARY"
   ]
  },
  {
   "cell_type": "code",
   "execution_count": 1,
   "metadata": {
    "execution": {
     "iopub.execute_input": "2023-11-07T15:24:12.24841Z",
     "iopub.status.busy": "2023-11-07T15:24:12.247993Z",
     "iopub.status.idle": "2023-11-07T15:24:12.254576Z",
     "shell.execute_reply": "2023-11-07T15:24:12.25304Z",
     "shell.execute_reply.started": "2023-11-07T15:24:12.248376Z"
    }
   },
   "outputs": [],
   "source": [
    "import numpy as np\n",
    "import pandas as pd\n",
    "from sklearn.model_selection import train_test_split\n",
    "from sklearn.svm import SVC\n",
    "from sklearn.ensemble import RandomForestClassifier\n",
    "from sklearn.linear_model import LogisticRegression\n",
    "from sklearn.neighbors import KNeighborsClassifier\n",
    "from sklearn.preprocessing import StandardScaler\n",
    "import tensorflow as tf\n",
    "from keras_sequential_ascii import keras2ascii"
   ]
  },
  {
   "cell_type": "markdown",
   "metadata": {},
   "source": [
    "#### DATA PREPROCESSING : "
   ]
  },
  {
   "cell_type": "code",
   "execution_count": 2,
   "metadata": {
    "execution": {
     "iopub.execute_input": "2023-11-07T15:24:12.259274Z",
     "iopub.status.busy": "2023-11-07T15:24:12.257981Z",
     "iopub.status.idle": "2023-11-07T15:24:12.28122Z",
     "shell.execute_reply": "2023-11-07T15:24:12.279756Z",
     "shell.execute_reply.started": "2023-11-07T15:24:12.259154Z"
    }
   },
   "outputs": [],
   "source": [
    "df = pd.read_csv('diabetes.csv')"
   ]
  },
  {
   "cell_type": "code",
   "execution_count": 3,
   "metadata": {},
   "outputs": [
    {
     "data": {
      "text/html": [
       "<div>\n",
       "<style scoped>\n",
       "    .dataframe tbody tr th:only-of-type {\n",
       "        vertical-align: middle;\n",
       "    }\n",
       "\n",
       "    .dataframe tbody tr th {\n",
       "        vertical-align: top;\n",
       "    }\n",
       "\n",
       "    .dataframe thead th {\n",
       "        text-align: right;\n",
       "    }\n",
       "</style>\n",
       "<table border=\"1\" class=\"dataframe\">\n",
       "  <thead>\n",
       "    <tr style=\"text-align: right;\">\n",
       "      <th></th>\n",
       "      <th>Pregnancies</th>\n",
       "      <th>Glucose</th>\n",
       "      <th>BloodPressure</th>\n",
       "      <th>SkinThickness</th>\n",
       "      <th>Insulin</th>\n",
       "      <th>BMI</th>\n",
       "      <th>DiabetesPedigreeFunction</th>\n",
       "      <th>Age</th>\n",
       "      <th>Outcome</th>\n",
       "    </tr>\n",
       "  </thead>\n",
       "  <tbody>\n",
       "    <tr>\n",
       "      <th>0</th>\n",
       "      <td>6</td>\n",
       "      <td>148</td>\n",
       "      <td>72</td>\n",
       "      <td>35</td>\n",
       "      <td>0</td>\n",
       "      <td>33.6</td>\n",
       "      <td>0.627</td>\n",
       "      <td>50</td>\n",
       "      <td>1</td>\n",
       "    </tr>\n",
       "    <tr>\n",
       "      <th>1</th>\n",
       "      <td>1</td>\n",
       "      <td>85</td>\n",
       "      <td>66</td>\n",
       "      <td>29</td>\n",
       "      <td>0</td>\n",
       "      <td>26.6</td>\n",
       "      <td>0.351</td>\n",
       "      <td>31</td>\n",
       "      <td>0</td>\n",
       "    </tr>\n",
       "    <tr>\n",
       "      <th>2</th>\n",
       "      <td>8</td>\n",
       "      <td>183</td>\n",
       "      <td>64</td>\n",
       "      <td>0</td>\n",
       "      <td>0</td>\n",
       "      <td>23.3</td>\n",
       "      <td>0.672</td>\n",
       "      <td>32</td>\n",
       "      <td>1</td>\n",
       "    </tr>\n",
       "    <tr>\n",
       "      <th>3</th>\n",
       "      <td>1</td>\n",
       "      <td>89</td>\n",
       "      <td>66</td>\n",
       "      <td>23</td>\n",
       "      <td>94</td>\n",
       "      <td>28.1</td>\n",
       "      <td>0.167</td>\n",
       "      <td>21</td>\n",
       "      <td>0</td>\n",
       "    </tr>\n",
       "    <tr>\n",
       "      <th>4</th>\n",
       "      <td>0</td>\n",
       "      <td>137</td>\n",
       "      <td>40</td>\n",
       "      <td>35</td>\n",
       "      <td>168</td>\n",
       "      <td>43.1</td>\n",
       "      <td>2.288</td>\n",
       "      <td>33</td>\n",
       "      <td>1</td>\n",
       "    </tr>\n",
       "    <tr>\n",
       "      <th>...</th>\n",
       "      <td>...</td>\n",
       "      <td>...</td>\n",
       "      <td>...</td>\n",
       "      <td>...</td>\n",
       "      <td>...</td>\n",
       "      <td>...</td>\n",
       "      <td>...</td>\n",
       "      <td>...</td>\n",
       "      <td>...</td>\n",
       "    </tr>\n",
       "    <tr>\n",
       "      <th>763</th>\n",
       "      <td>10</td>\n",
       "      <td>101</td>\n",
       "      <td>76</td>\n",
       "      <td>48</td>\n",
       "      <td>180</td>\n",
       "      <td>32.9</td>\n",
       "      <td>0.171</td>\n",
       "      <td>63</td>\n",
       "      <td>0</td>\n",
       "    </tr>\n",
       "    <tr>\n",
       "      <th>764</th>\n",
       "      <td>2</td>\n",
       "      <td>122</td>\n",
       "      <td>70</td>\n",
       "      <td>27</td>\n",
       "      <td>0</td>\n",
       "      <td>36.8</td>\n",
       "      <td>0.340</td>\n",
       "      <td>27</td>\n",
       "      <td>0</td>\n",
       "    </tr>\n",
       "    <tr>\n",
       "      <th>765</th>\n",
       "      <td>5</td>\n",
       "      <td>121</td>\n",
       "      <td>72</td>\n",
       "      <td>23</td>\n",
       "      <td>112</td>\n",
       "      <td>26.2</td>\n",
       "      <td>0.245</td>\n",
       "      <td>30</td>\n",
       "      <td>0</td>\n",
       "    </tr>\n",
       "    <tr>\n",
       "      <th>766</th>\n",
       "      <td>1</td>\n",
       "      <td>126</td>\n",
       "      <td>60</td>\n",
       "      <td>0</td>\n",
       "      <td>0</td>\n",
       "      <td>30.1</td>\n",
       "      <td>0.349</td>\n",
       "      <td>47</td>\n",
       "      <td>1</td>\n",
       "    </tr>\n",
       "    <tr>\n",
       "      <th>767</th>\n",
       "      <td>1</td>\n",
       "      <td>93</td>\n",
       "      <td>70</td>\n",
       "      <td>31</td>\n",
       "      <td>0</td>\n",
       "      <td>30.4</td>\n",
       "      <td>0.315</td>\n",
       "      <td>23</td>\n",
       "      <td>0</td>\n",
       "    </tr>\n",
       "  </tbody>\n",
       "</table>\n",
       "<p>768 rows × 9 columns</p>\n",
       "</div>"
      ],
      "text/plain": [
       "     Pregnancies  Glucose  BloodPressure  SkinThickness  Insulin   BMI  \\\n",
       "0              6      148             72             35        0  33.6   \n",
       "1              1       85             66             29        0  26.6   \n",
       "2              8      183             64              0        0  23.3   \n",
       "3              1       89             66             23       94  28.1   \n",
       "4              0      137             40             35      168  43.1   \n",
       "..           ...      ...            ...            ...      ...   ...   \n",
       "763           10      101             76             48      180  32.9   \n",
       "764            2      122             70             27        0  36.8   \n",
       "765            5      121             72             23      112  26.2   \n",
       "766            1      126             60              0        0  30.1   \n",
       "767            1       93             70             31        0  30.4   \n",
       "\n",
       "     DiabetesPedigreeFunction  Age  Outcome  \n",
       "0                       0.627   50        1  \n",
       "1                       0.351   31        0  \n",
       "2                       0.672   32        1  \n",
       "3                       0.167   21        0  \n",
       "4                       2.288   33        1  \n",
       "..                        ...  ...      ...  \n",
       "763                     0.171   63        0  \n",
       "764                     0.340   27        0  \n",
       "765                     0.245   30        0  \n",
       "766                     0.349   47        1  \n",
       "767                     0.315   23        0  \n",
       "\n",
       "[768 rows x 9 columns]"
      ]
     },
     "execution_count": 3,
     "metadata": {},
     "output_type": "execute_result"
    }
   ],
   "source": [
    "df"
   ]
  },
  {
   "cell_type": "code",
   "execution_count": 4,
   "metadata": {
    "execution": {
     "iopub.execute_input": "2023-11-07T15:24:12.284187Z",
     "iopub.status.busy": "2023-11-07T15:24:12.283691Z",
     "iopub.status.idle": "2023-11-07T15:24:12.298256Z",
     "shell.execute_reply": "2023-11-07T15:24:12.296862Z",
     "shell.execute_reply.started": "2023-11-07T15:24:12.284134Z"
    }
   },
   "outputs": [
    {
     "data": {
      "text/plain": [
       "Pregnancies                 False\n",
       "Glucose                     False\n",
       "BloodPressure               False\n",
       "SkinThickness               False\n",
       "Insulin                     False\n",
       "BMI                         False\n",
       "DiabetesPedigreeFunction    False\n",
       "Age                         False\n",
       "Outcome                     False\n",
       "dtype: bool"
      ]
     },
     "execution_count": 4,
     "metadata": {},
     "output_type": "execute_result"
    }
   ],
   "source": [
    "df.isnull().any()"
   ]
  },
  {
   "cell_type": "code",
   "execution_count": 5,
   "metadata": {
    "execution": {
     "iopub.execute_input": "2023-11-07T15:24:12.300174Z",
     "iopub.status.busy": "2023-11-07T15:24:12.299685Z",
     "iopub.status.idle": "2023-11-07T15:24:12.31877Z",
     "shell.execute_reply": "2023-11-07T15:24:12.317468Z",
     "shell.execute_reply.started": "2023-11-07T15:24:12.300126Z"
    }
   },
   "outputs": [
    {
     "data": {
      "text/html": [
       "<div>\n",
       "<style scoped>\n",
       "    .dataframe tbody tr th:only-of-type {\n",
       "        vertical-align: middle;\n",
       "    }\n",
       "\n",
       "    .dataframe tbody tr th {\n",
       "        vertical-align: top;\n",
       "    }\n",
       "\n",
       "    .dataframe thead th {\n",
       "        text-align: right;\n",
       "    }\n",
       "</style>\n",
       "<table border=\"1\" class=\"dataframe\">\n",
       "  <thead>\n",
       "    <tr style=\"text-align: right;\">\n",
       "      <th></th>\n",
       "      <th>Pregnancies</th>\n",
       "      <th>Glucose</th>\n",
       "      <th>BloodPressure</th>\n",
       "      <th>SkinThickness</th>\n",
       "      <th>Insulin</th>\n",
       "      <th>BMI</th>\n",
       "      <th>DiabetesPedigreeFunction</th>\n",
       "      <th>Age</th>\n",
       "    </tr>\n",
       "  </thead>\n",
       "  <tbody>\n",
       "    <tr>\n",
       "      <th>0</th>\n",
       "      <td>6</td>\n",
       "      <td>148</td>\n",
       "      <td>72</td>\n",
       "      <td>35</td>\n",
       "      <td>0</td>\n",
       "      <td>33.6</td>\n",
       "      <td>0.627</td>\n",
       "      <td>50</td>\n",
       "    </tr>\n",
       "    <tr>\n",
       "      <th>1</th>\n",
       "      <td>1</td>\n",
       "      <td>85</td>\n",
       "      <td>66</td>\n",
       "      <td>29</td>\n",
       "      <td>0</td>\n",
       "      <td>26.6</td>\n",
       "      <td>0.351</td>\n",
       "      <td>31</td>\n",
       "    </tr>\n",
       "    <tr>\n",
       "      <th>2</th>\n",
       "      <td>8</td>\n",
       "      <td>183</td>\n",
       "      <td>64</td>\n",
       "      <td>0</td>\n",
       "      <td>0</td>\n",
       "      <td>23.3</td>\n",
       "      <td>0.672</td>\n",
       "      <td>32</td>\n",
       "    </tr>\n",
       "    <tr>\n",
       "      <th>3</th>\n",
       "      <td>1</td>\n",
       "      <td>89</td>\n",
       "      <td>66</td>\n",
       "      <td>23</td>\n",
       "      <td>94</td>\n",
       "      <td>28.1</td>\n",
       "      <td>0.167</td>\n",
       "      <td>21</td>\n",
       "    </tr>\n",
       "    <tr>\n",
       "      <th>4</th>\n",
       "      <td>0</td>\n",
       "      <td>137</td>\n",
       "      <td>40</td>\n",
       "      <td>35</td>\n",
       "      <td>168</td>\n",
       "      <td>43.1</td>\n",
       "      <td>2.288</td>\n",
       "      <td>33</td>\n",
       "    </tr>\n",
       "  </tbody>\n",
       "</table>\n",
       "</div>"
      ],
      "text/plain": [
       "   Pregnancies  Glucose  BloodPressure  SkinThickness  Insulin   BMI  \\\n",
       "0            6      148             72             35        0  33.6   \n",
       "1            1       85             66             29        0  26.6   \n",
       "2            8      183             64              0        0  23.3   \n",
       "3            1       89             66             23       94  28.1   \n",
       "4            0      137             40             35      168  43.1   \n",
       "\n",
       "   DiabetesPedigreeFunction  Age  \n",
       "0                     0.627   50  \n",
       "1                     0.351   31  \n",
       "2                     0.672   32  \n",
       "3                     0.167   21  \n",
       "4                     2.288   33  "
      ]
     },
     "execution_count": 5,
     "metadata": {},
     "output_type": "execute_result"
    }
   ],
   "source": [
    "x=df.drop(columns=['Outcome'])\n",
    "y=df['Outcome']\n",
    "x.head()"
   ]
  },
  {
   "cell_type": "code",
   "execution_count": 6,
   "metadata": {},
   "outputs": [
    {
     "data": {
      "text/plain": [
       "0    1\n",
       "1    0\n",
       "2    1\n",
       "3    0\n",
       "4    1\n",
       "Name: Outcome, dtype: int64"
      ]
     },
     "execution_count": 6,
     "metadata": {},
     "output_type": "execute_result"
    }
   ],
   "source": [
    "y.head()"
   ]
  },
  {
   "cell_type": "code",
   "execution_count": 7,
   "metadata": {
    "execution": {
     "iopub.execute_input": "2023-11-07T15:24:12.322726Z",
     "iopub.status.busy": "2023-11-07T15:24:12.322239Z",
     "iopub.status.idle": "2023-11-07T15:24:12.332528Z",
     "shell.execute_reply": "2023-11-07T15:24:12.331413Z",
     "shell.execute_reply.started": "2023-11-07T15:24:12.322681Z"
    }
   },
   "outputs": [],
   "source": [
    "X_train, X_test, y_train, y_test = train_test_split(x, y, test_size=0.2, random_state=42)"
   ]
  },
  {
   "cell_type": "code",
   "execution_count": 8,
   "metadata": {
    "execution": {
     "iopub.execute_input": "2023-11-07T15:24:12.33484Z",
     "iopub.status.busy": "2023-11-07T15:24:12.334287Z",
     "iopub.status.idle": "2023-11-07T15:24:12.350709Z",
     "shell.execute_reply": "2023-11-07T15:24:12.349203Z",
     "shell.execute_reply.started": "2023-11-07T15:24:12.334797Z"
    }
   },
   "outputs": [],
   "source": [
    "scaler = StandardScaler()\n",
    "X_train = scaler.fit_transform(X_train)\n",
    "X_test = scaler.transform(X_test)"
   ]
  },
  {
   "cell_type": "code",
   "execution_count": 9,
   "metadata": {},
   "outputs": [
    {
     "data": {
      "text/plain": [
       "array([[-0.52639686, -1.15139792, -3.75268255, ..., -4.13525578,\n",
       "        -0.49073479, -1.03594038],\n",
       "       [ 1.58804586, -0.27664283,  0.68034485, ..., -0.48916881,\n",
       "         2.41502991,  1.48710085],\n",
       "       [-0.82846011,  0.56687102, -1.2658623 , ..., -0.42452187,\n",
       "         0.54916055, -0.94893896],\n",
       "       ...,\n",
       "       [ 1.8901091 , -0.62029661,  0.89659009, ...,  1.76054443,\n",
       "         1.981245  ,  0.44308379],\n",
       "       [-1.13052335,  0.62935353, -3.75268255, ...,  1.34680407,\n",
       "        -0.78487662, -0.33992901],\n",
       "       [-1.13052335,  0.12949347,  1.43720319, ..., -1.22614383,\n",
       "        -0.61552223, -1.03594038]])"
      ]
     },
     "execution_count": 9,
     "metadata": {},
     "output_type": "execute_result"
    }
   ],
   "source": [
    "X_train"
   ]
  },
  {
   "cell_type": "code",
   "execution_count": 10,
   "metadata": {},
   "outputs": [
    {
     "data": {
      "text/plain": [
       "array([[ 0.68185612, -0.71402038, -0.61712658, ...,  0.26073561,\n",
       "        -0.11637247,  0.87809089],\n",
       "       [-0.52639686, -0.27664283,  0.30191569, ...,  0.48053518,\n",
       "        -0.954231  , -1.03594038],\n",
       "       [-0.52639686, -0.40160784, -0.29275872, ..., -0.15300476,\n",
       "        -0.9245197 , -1.03594038],\n",
       "       ...,\n",
       "       [ 1.28598261, -0.80774414,  0.13973176, ...,  0.62275843,\n",
       "         0.04703966,  2.0961108 ],\n",
       "       [-0.52639686,  0.78555979,  0.03160914, ..., -0.51502758,\n",
       "        -0.39268751, -0.33992901],\n",
       "       [ 1.28598261, -1.46381046,  0.03160914, ...,  0.42881763,\n",
       "         0.70068816,  0.53008521]])"
      ]
     },
     "execution_count": 10,
     "metadata": {},
     "output_type": "execute_result"
    }
   ],
   "source": [
    "X_test"
   ]
  },
  {
   "cell_type": "markdown",
   "metadata": {},
   "source": [
    "#### MACHINE LEARNING MODEL  : "
   ]
  },
  {
   "cell_type": "code",
   "execution_count": 11,
   "metadata": {
    "execution": {
     "iopub.execute_input": "2023-11-07T15:24:12.352696Z",
     "iopub.status.busy": "2023-11-07T15:24:12.35217Z",
     "iopub.status.idle": "2023-11-07T15:24:12.360141Z",
     "shell.execute_reply": "2023-11-07T15:24:12.358637Z",
     "shell.execute_reply.started": "2023-11-07T15:24:12.352648Z"
    }
   },
   "outputs": [],
   "source": [
    "\n",
    "svm_model = SVC()\n",
    "rf_model = RandomForestClassifier()\n",
    "lr_model = LogisticRegression()\n",
    "knn_model = KNeighborsClassifier()"
   ]
  },
  {
   "cell_type": "code",
   "execution_count": 12,
   "metadata": {
    "execution": {
     "iopub.execute_input": "2023-11-07T15:24:12.362476Z",
     "iopub.status.busy": "2023-11-07T15:24:12.361994Z",
     "iopub.status.idle": "2023-11-07T15:24:12.675735Z",
     "shell.execute_reply": "2023-11-07T15:24:12.674419Z",
     "shell.execute_reply.started": "2023-11-07T15:24:12.362431Z"
    }
   },
   "outputs": [
    {
     "data": {
      "text/html": [
       "<style>#sk-container-id-1 {color: black;background-color: white;}#sk-container-id-1 pre{padding: 0;}#sk-container-id-1 div.sk-toggleable {background-color: white;}#sk-container-id-1 label.sk-toggleable__label {cursor: pointer;display: block;width: 100%;margin-bottom: 0;padding: 0.3em;box-sizing: border-box;text-align: center;}#sk-container-id-1 label.sk-toggleable__label-arrow:before {content: \"▸\";float: left;margin-right: 0.25em;color: #696969;}#sk-container-id-1 label.sk-toggleable__label-arrow:hover:before {color: black;}#sk-container-id-1 div.sk-estimator:hover label.sk-toggleable__label-arrow:before {color: black;}#sk-container-id-1 div.sk-toggleable__content {max-height: 0;max-width: 0;overflow: hidden;text-align: left;background-color: #f0f8ff;}#sk-container-id-1 div.sk-toggleable__content pre {margin: 0.2em;color: black;border-radius: 0.25em;background-color: #f0f8ff;}#sk-container-id-1 input.sk-toggleable__control:checked~div.sk-toggleable__content {max-height: 200px;max-width: 100%;overflow: auto;}#sk-container-id-1 input.sk-toggleable__control:checked~label.sk-toggleable__label-arrow:before {content: \"▾\";}#sk-container-id-1 div.sk-estimator input.sk-toggleable__control:checked~label.sk-toggleable__label {background-color: #d4ebff;}#sk-container-id-1 div.sk-label input.sk-toggleable__control:checked~label.sk-toggleable__label {background-color: #d4ebff;}#sk-container-id-1 input.sk-hidden--visually {border: 0;clip: rect(1px 1px 1px 1px);clip: rect(1px, 1px, 1px, 1px);height: 1px;margin: -1px;overflow: hidden;padding: 0;position: absolute;width: 1px;}#sk-container-id-1 div.sk-estimator {font-family: monospace;background-color: #f0f8ff;border: 1px dotted black;border-radius: 0.25em;box-sizing: border-box;margin-bottom: 0.5em;}#sk-container-id-1 div.sk-estimator:hover {background-color: #d4ebff;}#sk-container-id-1 div.sk-parallel-item::after {content: \"\";width: 100%;border-bottom: 1px solid gray;flex-grow: 1;}#sk-container-id-1 div.sk-label:hover label.sk-toggleable__label {background-color: #d4ebff;}#sk-container-id-1 div.sk-serial::before {content: \"\";position: absolute;border-left: 1px solid gray;box-sizing: border-box;top: 0;bottom: 0;left: 50%;z-index: 0;}#sk-container-id-1 div.sk-serial {display: flex;flex-direction: column;align-items: center;background-color: white;padding-right: 0.2em;padding-left: 0.2em;position: relative;}#sk-container-id-1 div.sk-item {position: relative;z-index: 1;}#sk-container-id-1 div.sk-parallel {display: flex;align-items: stretch;justify-content: center;background-color: white;position: relative;}#sk-container-id-1 div.sk-item::before, #sk-container-id-1 div.sk-parallel-item::before {content: \"\";position: absolute;border-left: 1px solid gray;box-sizing: border-box;top: 0;bottom: 0;left: 50%;z-index: -1;}#sk-container-id-1 div.sk-parallel-item {display: flex;flex-direction: column;z-index: 1;position: relative;background-color: white;}#sk-container-id-1 div.sk-parallel-item:first-child::after {align-self: flex-end;width: 50%;}#sk-container-id-1 div.sk-parallel-item:last-child::after {align-self: flex-start;width: 50%;}#sk-container-id-1 div.sk-parallel-item:only-child::after {width: 0;}#sk-container-id-1 div.sk-dashed-wrapped {border: 1px dashed gray;margin: 0 0.4em 0.5em 0.4em;box-sizing: border-box;padding-bottom: 0.4em;background-color: white;}#sk-container-id-1 div.sk-label label {font-family: monospace;font-weight: bold;display: inline-block;line-height: 1.2em;}#sk-container-id-1 div.sk-label-container {text-align: center;}#sk-container-id-1 div.sk-container {/* jupyter's `normalize.less` sets `[hidden] { display: none; }` but bootstrap.min.css set `[hidden] { display: none !important; }` so we also need the `!important` here to be able to override the default hidden behavior on the sphinx rendered scikit-learn.org. See: https://github.com/scikit-learn/scikit-learn/issues/21755 */display: inline-block !important;position: relative;}#sk-container-id-1 div.sk-text-repr-fallback {display: none;}</style><div id=\"sk-container-id-1\" class=\"sk-top-container\"><div class=\"sk-text-repr-fallback\"><pre>KNeighborsClassifier()</pre><b>In a Jupyter environment, please rerun this cell to show the HTML representation or trust the notebook. <br />On GitHub, the HTML representation is unable to render, please try loading this page with nbviewer.org.</b></div><div class=\"sk-container\" hidden><div class=\"sk-item\"><div class=\"sk-estimator sk-toggleable\"><input class=\"sk-toggleable__control sk-hidden--visually\" id=\"sk-estimator-id-1\" type=\"checkbox\" checked><label for=\"sk-estimator-id-1\" class=\"sk-toggleable__label sk-toggleable__label-arrow\">KNeighborsClassifier</label><div class=\"sk-toggleable__content\"><pre>KNeighborsClassifier()</pre></div></div></div></div></div>"
      ],
      "text/plain": [
       "KNeighborsClassifier()"
      ]
     },
     "execution_count": 12,
     "metadata": {},
     "output_type": "execute_result"
    }
   ],
   "source": [
    "svm_model.fit(X_train, y_train)\n",
    "rf_model.fit(X_train, y_train)\n",
    "lr_model.fit(X_train, y_train)\n",
    "knn_model.fit(X_train, y_train)"
   ]
  },
  {
   "cell_type": "code",
   "execution_count": 13,
   "metadata": {
    "execution": {
     "iopub.execute_input": "2023-11-07T15:24:12.677487Z",
     "iopub.status.busy": "2023-11-07T15:24:12.677134Z",
     "iopub.status.idle": "2023-11-07T15:24:12.711117Z",
     "shell.execute_reply": "2023-11-07T15:24:12.709785Z",
     "shell.execute_reply.started": "2023-11-07T15:24:12.677458Z"
    }
   },
   "outputs": [],
   "source": [
    "svm_pred = svm_model.predict(X_test)\n",
    "rf_pred = rf_model.predict(X_test)\n",
    "lr_pred = lr_model.predict(X_test)\n",
    "knn_pred = knn_model.predict(X_test)"
   ]
  },
  {
   "cell_type": "code",
   "execution_count": 14,
   "metadata": {
    "execution": {
     "iopub.execute_input": "2023-11-07T15:24:12.715409Z",
     "iopub.status.busy": "2023-11-07T15:24:12.714904Z",
     "iopub.status.idle": "2023-11-07T15:24:12.722947Z",
     "shell.execute_reply": "2023-11-07T15:24:12.721646Z",
     "shell.execute_reply.started": "2023-11-07T15:24:12.715369Z"
    }
   },
   "outputs": [],
   "source": [
    "from sklearn.metrics import accuracy_score, f1_score, precision_score, recall_score\n",
    "score=[]"
   ]
  },
  {
   "cell_type": "code",
   "execution_count": 15,
   "metadata": {
    "execution": {
     "iopub.execute_input": "2023-11-07T15:24:12.724658Z",
     "iopub.status.busy": "2023-11-07T15:24:12.724314Z",
     "iopub.status.idle": "2023-11-07T15:24:12.741745Z",
     "shell.execute_reply": "2023-11-07T15:24:12.740464Z",
     "shell.execute_reply.started": "2023-11-07T15:24:12.724628Z"
    }
   },
   "outputs": [],
   "source": [
    "s=[]\n",
    "s.append('Support Vector Machine   ')\n",
    "s.append(accuracy_score(y_test, svm_pred))\n",
    "s.append(precision_score(y_test, svm_pred))\n",
    "s.append(recall_score(y_test, svm_pred))\n",
    "s.append(f1_score(y_test, svm_pred))\n",
    "score.append(s)"
   ]
  },
  {
   "cell_type": "code",
   "execution_count": 16,
   "metadata": {
    "execution": {
     "iopub.execute_input": "2023-11-07T15:24:12.743455Z",
     "iopub.status.busy": "2023-11-07T15:24:12.743106Z",
     "iopub.status.idle": "2023-11-07T15:24:12.757583Z",
     "shell.execute_reply": "2023-11-07T15:24:12.756544Z",
     "shell.execute_reply.started": "2023-11-07T15:24:12.743424Z"
    }
   },
   "outputs": [],
   "source": [
    "s=[]\n",
    "s.append('Random Forest Classifier')\n",
    "s.append(accuracy_score(y_test, rf_pred))\n",
    "s.append(precision_score(y_test, rf_pred))\n",
    "s.append(recall_score(y_test, rf_pred))\n",
    "s.append(f1_score(y_test, rf_pred))\n",
    "score.append(s)"
   ]
  },
  {
   "cell_type": "code",
   "execution_count": 17,
   "metadata": {
    "execution": {
     "iopub.execute_input": "2023-11-07T15:24:12.759885Z",
     "iopub.status.busy": "2023-11-07T15:24:12.75879Z",
     "iopub.status.idle": "2023-11-07T15:24:12.774096Z",
     "shell.execute_reply": "2023-11-07T15:24:12.772708Z",
     "shell.execute_reply.started": "2023-11-07T15:24:12.759848Z"
    }
   },
   "outputs": [],
   "source": [
    "s=[]\n",
    "s.append('Logistic Regression      ')\n",
    "s.append(accuracy_score(y_test, lr_pred))\n",
    "s.append(precision_score(y_test, lr_pred))\n",
    "s.append(recall_score(y_test, lr_pred))\n",
    "s.append(f1_score(y_test, lr_pred))\n",
    "score.append(s)"
   ]
  },
  {
   "cell_type": "code",
   "execution_count": 18,
   "metadata": {
    "execution": {
     "iopub.execute_input": "2023-11-07T15:24:12.775723Z",
     "iopub.status.busy": "2023-11-07T15:24:12.775392Z",
     "iopub.status.idle": "2023-11-07T15:24:12.794592Z",
     "shell.execute_reply": "2023-11-07T15:24:12.793328Z",
     "shell.execute_reply.started": "2023-11-07T15:24:12.775694Z"
    }
   },
   "outputs": [],
   "source": [
    "s=[]\n",
    "s.append('K-Nearest Neighbour       ')\n",
    "s.append(accuracy_score(y_test, knn_pred))\n",
    "s.append(precision_score(y_test, knn_pred))\n",
    "s.append(recall_score(y_test, knn_pred))\n",
    "s.append(f1_score(y_test, knn_pred))\n",
    "score.append(s)"
   ]
  },
  {
   "cell_type": "markdown",
   "metadata": {},
   "source": [
    "#### MACHINE LEARNING MODEL RESULTS : "
   ]
  },
  {
   "cell_type": "code",
   "execution_count": 19,
   "metadata": {
    "execution": {
     "iopub.execute_input": "2023-11-07T15:24:12.796268Z",
     "iopub.status.busy": "2023-11-07T15:24:12.795926Z",
     "iopub.status.idle": "2023-11-07T15:24:12.810504Z",
     "shell.execute_reply": "2023-11-07T15:24:12.808998Z",
     "shell.execute_reply.started": "2023-11-07T15:24:12.79624Z"
    }
   },
   "outputs": [
    {
     "name": "stdout",
     "output_type": "stream",
     "text": [
      "Model\t\t\t\tAccuracy\tPrecision\tRecall\t\tF1-score\n",
      "Support Vector Machine   \t0.734\t\t0.646\t\t0.564\t\t0.602\t\t\n",
      "Random Forest Classifier\t0.753\t\t0.649\t\t0.673\t\t0.661\t\t\n",
      "Logistic Regression      \t0.753\t\t0.649\t\t0.673\t\t0.661\t\t\n",
      "K-Nearest Neighbour       \t0.695\t\t0.583\t\t0.509\t\t0.544\t\t\n"
     ]
    }
   ],
   "source": [
    "print('Model\\t\\t\\t\\tAccuracy\\tPrecision\\tRecall\\t\\tF1-score')\n",
    "for s in score:\n",
    "    for i in s:\n",
    "        if(type(i)!=str):\n",
    "            print('{:.3f}'.format(i), end='\\t\\t')\n",
    "        else:\n",
    "            print(i, end='\\t')\n",
    "    print()"
   ]
  },
  {
   "cell_type": "markdown",
   "metadata": {},
   "source": [
    "## ANN MODEL"
   ]
  },
  {
   "cell_type": "code",
   "execution_count": 20,
   "metadata": {
    "execution": {
     "iopub.execute_input": "2023-11-07T15:24:12.812762Z",
     "iopub.status.busy": "2023-11-07T15:24:12.811874Z",
     "iopub.status.idle": "2023-11-07T15:24:12.913249Z",
     "shell.execute_reply": "2023-11-07T15:24:12.911624Z",
     "shell.execute_reply.started": "2023-11-07T15:24:12.812726Z"
    }
   },
   "outputs": [],
   "source": [
    "from tensorflow.keras.models import Sequential\n",
    "from tensorflow.keras.layers import Dense, Dropout\n",
    "\n",
    "model = Sequential()\n",
    "model.add(Dense(128, activation='relu', input_shape=(X_train.shape[1],)))\n",
    "model.add(Dropout(0.5))\n",
    "model.add(Dense(128, activation='relu'))\n",
    "model.add(Dropout(0.5))\n",
    "model.add(Dense(64, activation='relu'))\n",
    "model.add(Dropout(0.5))\n",
    "model.add(Dense(32, activation='elu'))\n",
    "model.add(Dropout(0.5))\n",
    "model.add(Dense(32, activation='relu'))\n",
    "model.add(Dropout(0.5))\n",
    "# model.add(Dense(16, activation='relu'))\n",
    "# model.add(Dropout(0.3))\n",
    "model.add(Dense(1, activation='sigmoid'))"
   ]
  },
  {
   "cell_type": "code",
   "execution_count": 21,
   "metadata": {},
   "outputs": [],
   "source": [
    "initial_weights = model.get_weights()\n",
    "# initial_weights"
   ]
  },
  {
   "cell_type": "markdown",
   "metadata": {},
   "source": [
    "#### MODEL SUMMARY: "
   ]
  },
  {
   "cell_type": "code",
   "execution_count": 22,
   "metadata": {},
   "outputs": [
    {
     "name": "stdout",
     "output_type": "stream",
     "text": [
      "Model: \"sequential\"\n",
      "_________________________________________________________________\n",
      " Layer (type)                Output Shape              Param #   \n",
      "=================================================================\n",
      " dense (Dense)               (None, 128)               1152      \n",
      "                                                                 \n",
      " dropout (Dropout)           (None, 128)               0         \n",
      "                                                                 \n",
      " dense_1 (Dense)             (None, 128)               16512     \n",
      "                                                                 \n",
      " dropout_1 (Dropout)         (None, 128)               0         \n",
      "                                                                 \n",
      " dense_2 (Dense)             (None, 64)                8256      \n",
      "                                                                 \n",
      " dropout_2 (Dropout)         (None, 64)                0         \n",
      "                                                                 \n",
      " dense_3 (Dense)             (None, 32)                2080      \n",
      "                                                                 \n",
      " dropout_3 (Dropout)         (None, 32)                0         \n",
      "                                                                 \n",
      " dense_4 (Dense)             (None, 32)                1056      \n",
      "                                                                 \n",
      " dropout_4 (Dropout)         (None, 32)                0         \n",
      "                                                                 \n",
      " dense_5 (Dense)             (None, 1)                 33        \n",
      "                                                                 \n",
      "=================================================================\n",
      "Total params: 29,089\n",
      "Trainable params: 29,089\n",
      "Non-trainable params: 0\n",
      "_________________________________________________________________\n"
     ]
    }
   ],
   "source": [
    "model.summary()"
   ]
  },
  {
   "cell_type": "markdown",
   "metadata": {},
   "source": [
    "#### Model Visualization :"
   ]
  },
  {
   "cell_type": "code",
   "execution_count": 23,
   "metadata": {},
   "outputs": [
    {
     "name": "stdout",
     "output_type": "stream",
     "text": [
      "           OPERATION           DATA DIMENSIONS   WEIGHTS(N)   WEIGHTS(%)\n",
      "\n",
      "               Input   #####           8\n",
      "               Dense   XXXXX -------------------      1152     4.0%\n",
      "                relu   #####         128\n",
      "             Dropout    | || -------------------         0     0.0%\n",
      "                       #####         128\n",
      "               Dense   XXXXX -------------------     16512    56.8%\n",
      "                relu   #####         128\n",
      "             Dropout    | || -------------------         0     0.0%\n",
      "                       #####         128\n",
      "               Dense   XXXXX -------------------      8256    28.4%\n",
      "                relu   #####          64\n",
      "             Dropout    | || -------------------         0     0.0%\n",
      "                       #####          64\n",
      "               Dense   XXXXX -------------------      2080     7.2%\n",
      "                 elu   #####          32\n",
      "             Dropout    | || -------------------         0     0.0%\n",
      "                       #####          32\n",
      "               Dense   XXXXX -------------------      1056     3.6%\n",
      "                relu   #####          32\n",
      "             Dropout    | || -------------------         0     0.0%\n",
      "                       #####          32\n",
      "               Dense   XXXXX -------------------        33     0.1%\n",
      "             sigmoid   #####           1\n"
     ]
    }
   ],
   "source": [
    "keras2ascii(model)"
   ]
  },
  {
   "cell_type": "code",
   "execution_count": 24,
   "metadata": {},
   "outputs": [
    {
     "data": {
      "image/png": "[encoded data removed]",
      "text/plain": [
       "<PIL.Image.Image image mode=RGBA size=347x63>"
      ]
     },
     "execution_count": 24,
     "metadata": {},
     "output_type": "execute_result"
    }
   ],
   "source": [
    "import visualkeras\n",
    "from PIL import ImageFont\n",
    "visualkeras.layered_view(model, legend=True)\n"
   ]
  },
  {
   "cell_type": "markdown",
   "metadata": {},
   "source": [
    "#### MODEL TRAINING : "
   ]
  },
  {
   "cell_type": "code",
   "execution_count": 25,
   "metadata": {},
   "outputs": [],
   "source": [
    "callback = tf.keras.callbacks.EarlyStopping(\n",
    "    monitor=\"val_loss\",\n",
    "    min_delta=0,\n",
    "    patience=5,\n",
    "    verbose=1,\n",
    "    mode=\"max\",\n",
    "    start_from_epoch=27,\n",
    ")"
   ]
  },
  {
   "cell_type": "code",
   "execution_count": 26,
   "metadata": {
    "execution": {
     "iopub.execute_input": "2023-11-07T15:24:12.915423Z",
     "iopub.status.busy": "2023-11-07T15:24:12.914885Z",
     "iopub.status.idle": "2023-11-07T15:24:19.467417Z",
     "shell.execute_reply": "2023-11-07T15:24:19.466223Z",
     "shell.execute_reply.started": "2023-11-07T15:24:12.915371Z"
    }
   },
   "outputs": [
    {
     "name": "stdout",
     "output_type": "stream",
     "text": [
      "Epoch 1/100\n",
      "20/20 [==============================] - 2s 16ms/step - loss: 0.7626 - accuracy: 0.5244 - val_loss: 0.6322 - val_accuracy: 0.6429\n",
      "Epoch 2/100\n",
      "20/20 [==============================] - 0s 2ms/step - loss: 0.6952 - accuracy: 0.6042 - val_loss: 0.6149 - val_accuracy: 0.6818\n",
      "Epoch 3/100\n",
      "20/20 [==============================] - 0s 2ms/step - loss: 0.6164 - accuracy: 0.6629 - val_loss: 0.5909 - val_accuracy: 0.7013\n",
      "Epoch 4/100\n",
      "20/20 [==============================] - 0s 2ms/step - loss: 0.6542 - accuracy: 0.6270 - val_loss: 0.5692 - val_accuracy: 0.6948\n",
      "Epoch 5/100\n",
      "20/20 [==============================] - 0s 3ms/step - loss: 0.6310 - accuracy: 0.6775 - val_loss: 0.5504 - val_accuracy: 0.7338\n",
      "Epoch 6/100\n",
      "20/20 [==============================] - 0s 5ms/step - loss: 0.5712 - accuracy: 0.7068 - val_loss: 0.5378 - val_accuracy: 0.7597\n",
      "Epoch 7/100\n",
      "20/20 [==============================] - 0s 5ms/step - loss: 0.5798 - accuracy: 0.6775 - val_loss: 0.5297 - val_accuracy: 0.7338\n",
      "Epoch 8/100\n",
      "20/20 [==============================] - 0s 3ms/step - loss: 0.5674 - accuracy: 0.7036 - val_loss: 0.5250 - val_accuracy: 0.7532\n",
      "Epoch 9/100\n",
      "20/20 [==============================] - 0s 4ms/step - loss: 0.5443 - accuracy: 0.7166 - val_loss: 0.5238 - val_accuracy: 0.7403\n",
      "Epoch 10/100\n",
      "20/20 [==============================] - 0s 3ms/step - loss: 0.5718 - accuracy: 0.7052 - val_loss: 0.5214 - val_accuracy: 0.7273\n",
      "Epoch 11/100\n",
      "20/20 [==============================] - 0s 3ms/step - loss: 0.5213 - accuracy: 0.7231 - val_loss: 0.5232 - val_accuracy: 0.7013\n",
      "Epoch 12/100\n",
      "20/20 [==============================] - 0s 4ms/step - loss: 0.5358 - accuracy: 0.7215 - val_loss: 0.5305 - val_accuracy: 0.7532\n",
      "Epoch 13/100\n",
      "20/20 [==============================] - 0s 3ms/step - loss: 0.5065 - accuracy: 0.7427 - val_loss: 0.5330 - val_accuracy: 0.7468\n",
      "Epoch 14/100\n",
      "20/20 [==============================] - 0s 4ms/step - loss: 0.5260 - accuracy: 0.7443 - val_loss: 0.5336 - val_accuracy: 0.7403\n",
      "Epoch 15/100\n",
      "20/20 [==============================] - 0s 3ms/step - loss: 0.5185 - accuracy: 0.7313 - val_loss: 0.5332 - val_accuracy: 0.7468\n",
      "Epoch 16/100\n",
      "20/20 [==============================] - 0s 3ms/step - loss: 0.5354 - accuracy: 0.7427 - val_loss: 0.5354 - val_accuracy: 0.7338\n",
      "Epoch 17/100\n",
      "20/20 [==============================] - 0s 2ms/step - loss: 0.5096 - accuracy: 0.7410 - val_loss: 0.5380 - val_accuracy: 0.7403\n",
      "Epoch 18/100\n",
      "20/20 [==============================] - 0s 3ms/step - loss: 0.5202 - accuracy: 0.7248 - val_loss: 0.5403 - val_accuracy: 0.7403\n",
      "Epoch 19/100\n",
      "20/20 [==============================] - 0s 3ms/step - loss: 0.5237 - accuracy: 0.7541 - val_loss: 0.5386 - val_accuracy: 0.7468\n",
      "Epoch 20/100\n",
      "20/20 [==============================] - 0s 4ms/step - loss: 0.5160 - accuracy: 0.7541 - val_loss: 0.5320 - val_accuracy: 0.7468\n",
      "Epoch 21/100\n",
      "20/20 [==============================] - 0s 5ms/step - loss: 0.4856 - accuracy: 0.7508 - val_loss: 0.5306 - val_accuracy: 0.7662\n",
      "Epoch 22/100\n",
      "20/20 [==============================] - 0s 3ms/step - loss: 0.4991 - accuracy: 0.7606 - val_loss: 0.5318 - val_accuracy: 0.7597\n",
      "Epoch 23/100\n",
      "20/20 [==============================] - 0s 4ms/step - loss: 0.5019 - accuracy: 0.7508 - val_loss: 0.5286 - val_accuracy: 0.7468\n",
      "Epoch 24/100\n",
      "20/20 [==============================] - 0s 2ms/step - loss: 0.4911 - accuracy: 0.7622 - val_loss: 0.5334 - val_accuracy: 0.7597\n",
      "Epoch 25/100\n",
      "20/20 [==============================] - 0s 3ms/step - loss: 0.4831 - accuracy: 0.7573 - val_loss: 0.5323 - val_accuracy: 0.7727\n",
      "Epoch 26/100\n",
      "20/20 [==============================] - 0s 3ms/step - loss: 0.4896 - accuracy: 0.7492 - val_loss: 0.5309 - val_accuracy: 0.7792\n",
      "Epoch 27/100\n",
      "20/20 [==============================] - 0s 3ms/step - loss: 0.4910 - accuracy: 0.7557 - val_loss: 0.5335 - val_accuracy: 0.7792\n",
      "Epoch 28/100\n",
      "20/20 [==============================] - 0s 3ms/step - loss: 0.4963 - accuracy: 0.7622 - val_loss: 0.5248 - val_accuracy: 0.7597\n",
      "Epoch 29/100\n",
      "20/20 [==============================] - 0s 3ms/step - loss: 0.4730 - accuracy: 0.7394 - val_loss: 0.5267 - val_accuracy: 0.7662\n",
      "Epoch 30/100\n",
      "20/20 [==============================] - 0s 3ms/step - loss: 0.4602 - accuracy: 0.7752 - val_loss: 0.5255 - val_accuracy: 0.7662\n",
      "Epoch 31/100\n",
      "20/20 [==============================] - 0s 4ms/step - loss: 0.4668 - accuracy: 0.7720 - val_loss: 0.5250 - val_accuracy: 0.7727\n",
      "Epoch 32/100\n",
      "20/20 [==============================] - 0s 3ms/step - loss: 0.4971 - accuracy: 0.7704 - val_loss: 0.5226 - val_accuracy: 0.7727\n",
      "Epoch 33/100\n",
      "20/20 [==============================] - 0s 3ms/step - loss: 0.4799 - accuracy: 0.7671 - val_loss: 0.5256 - val_accuracy: 0.7597\n",
      "Epoch 34/100\n",
      "20/20 [==============================] - 0s 3ms/step - loss: 0.4786 - accuracy: 0.7508 - val_loss: 0.5290 - val_accuracy: 0.7792\n",
      "Epoch 35/100\n",
      "20/20 [==============================] - 0s 4ms/step - loss: 0.4607 - accuracy: 0.7785 - val_loss: 0.5240 - val_accuracy: 0.7727\n",
      "Epoch 36/100\n",
      "20/20 [==============================] - 0s 4ms/step - loss: 0.4805 - accuracy: 0.7687 - val_loss: 0.5248 - val_accuracy: 0.7727\n",
      "Epoch 37/100\n",
      "20/20 [==============================] - 0s 3ms/step - loss: 0.4471 - accuracy: 0.7834 - val_loss: 0.5363 - val_accuracy: 0.7597\n",
      "Epoch 38/100\n",
      "20/20 [==============================] - 0s 3ms/step - loss: 0.4696 - accuracy: 0.7785 - val_loss: 0.5295 - val_accuracy: 0.7727\n",
      "Epoch 39/100\n",
      "20/20 [==============================] - 0s 4ms/step - loss: 0.4660 - accuracy: 0.7704 - val_loss: 0.5289 - val_accuracy: 0.7727\n",
      "Epoch 40/100\n",
      "20/20 [==============================] - 0s 3ms/step - loss: 0.5100 - accuracy: 0.7557 - val_loss: 0.5257 - val_accuracy: 0.7662\n",
      "Epoch 41/100\n",
      "20/20 [==============================] - 0s 3ms/step - loss: 0.4761 - accuracy: 0.7524 - val_loss: 0.5271 - val_accuracy: 0.7727\n",
      "Epoch 42/100\n",
      "20/20 [==============================] - 0s 3ms/step - loss: 0.4614 - accuracy: 0.7818 - val_loss: 0.5343 - val_accuracy: 0.7727\n",
      "Epoch 42: early stopping\n"
     ]
    }
   ],
   "source": [
    "model.compile(optimizer='adam', loss='binary_crossentropy', metrics=['accuracy'])\n",
    "history=model.fit(X_train, y_train, epochs=100, batch_size=32, validation_data=(X_test, y_test),callbacks=[callback])"
   ]
  },
  {
   "cell_type": "code",
   "execution_count": 27,
   "metadata": {
    "execution": {
     "iopub.execute_input": "2023-11-07T15:24:19.470829Z",
     "iopub.status.busy": "2023-11-07T15:24:19.470316Z",
     "iopub.status.idle": "2023-11-07T15:24:20.153342Z",
     "shell.execute_reply": "2023-11-07T15:24:20.152032Z",
     "shell.execute_reply.started": "2023-11-07T15:24:19.470782Z"
    }
   },
   "outputs": [
    {
     "data": {
      "image/png": "[encoded data removed]",
      "text/plain": [
       "<Figure size 1200x400 with 2 Axes>"
      ]
     },
     "metadata": {},
     "output_type": "display_data"
    }
   ],
   "source": [
    "import matplotlib.pyplot as plt\n",
    "\n",
    "plt.figure(figsize=(12, 4))\n",
    "plt.subplot(1, 2, 1)\n",
    "plt.plot(history.history['accuracy'])\n",
    "plt.plot(history.history['val_accuracy'])\n",
    "plt.title('Model accuracy')\n",
    "plt.ylabel('Accuracy')\n",
    "plt.xlabel('Epoch')\n",
    "plt.legend(['Train', 'Test'], loc='upper left')\n",
    "\n",
    "plt.subplot(1, 2, 2)\n",
    "plt.plot(history.history['loss'])\n",
    "plt.plot(history.history['val_loss'])\n",
    "plt.title('Model loss')\n",
    "plt.ylabel('Loss')\n",
    "plt.xlabel('Epoch')\n",
    "plt.legend(['Train', 'Test'], loc='upper left')\n",
    "\n",
    "plt.tight_layout()\n",
    "plt.show()"
   ]
  },
  {
   "cell_type": "markdown",
   "metadata": {},
   "source": [
    "#### MODEL TESTING : "
   ]
  },
  {
   "cell_type": "code",
   "execution_count": 28,
   "metadata": {
    "execution": {
     "iopub.execute_input": "2023-11-07T15:24:20.156212Z",
     "iopub.status.busy": "2023-11-07T15:24:20.155495Z",
     "iopub.status.idle": "2023-11-07T15:24:20.324769Z",
     "shell.execute_reply": "2023-11-07T15:24:20.32355Z",
     "shell.execute_reply.started": "2023-11-07T15:24:20.156163Z"
    }
   },
   "outputs": [
    {
     "name": "stdout",
     "output_type": "stream",
     "text": [
      "5/5 [==============================] - 0s 4ms/step\n",
      "Deep Learning Model -\n",
      "Accuracy  = 0.7727272727272727\n",
      "Precision = 0.6923076923076923\n",
      "Recall    = 0.6545454545454545\n",
      "F1-Score  = 0.6728971962616823\n"
     ]
    }
   ],
   "source": [
    "y_pred = model.predict(X_test)\n",
    "y_pred = (y_pred > 0.5)  \n",
    "\n",
    "accuracy = accuracy_score(y_test, y_pred)\n",
    "precision = precision_score(y_test, y_pred)\n",
    "recall = recall_score(y_test, y_pred)\n",
    "f1 = f1_score(y_test, y_pred)\n",
    "\n",
    "print('Deep Learning Model -')\n",
    "print(f\"Accuracy  = {accuracy}\")\n",
    "print(f\"Precision = {precision}\")\n",
    "print(f\"Recall    = {recall}\")\n",
    "print(f\"F1-Score  = {f1}\")"
   ]
  }
 ],
 "metadata": {
  "kernelspec": {
   "display_name": "Python 3 (ipykernel)",
   "language": "python",
   "name": "python3"
  },
  "language_info": {
   "codemirror_mode": {
    "name": "ipython",
    "version": 3
   },
   "file_extension": ".py",
   "mimetype": "text/x-python",
   "name": "python",
   "nbconvert_exporter": "python",
   "pygments_lexer": "ipython3",
   "version": "3.10.9"
  }
 },
 "nbformat": 4,
 "nbformat_minor": 4
}
